{
 "cells": [
  {
   "cell_type": "code",
   "execution_count": 1,
   "id": "1b9589a1",
   "metadata": {},
   "outputs": [],
   "source": [
    "import matplotlib.pyplot as plt\n",
    "import numpy as np\n",
    "import random as rand\n",
    "import math\n",
    "import scipy.special as spec\n",
    "import statistics as stats\n",
    "from tqdm import tqdm"
   ]
  },
  {
   "cell_type": "code",
   "execution_count": 2,
   "id": "8517e3bd",
   "metadata": {},
   "outputs": [],
   "source": [
    "#define parameters\n",
    "#the lattice has is of dimentions dim*a x dim*b\n",
    "T = 10000\n",
    "a = 1             #primitive cell lenght\n",
    "b = np.sqrt(3/4)  #primitive cell height\n",
    "dim = 10\n",
    "N = dim**2\n",
    "dt = 10**(-3)\n",
    "global pos"
   ]
  },
  {
   "cell_type": "markdown",
   "id": "2160f56a",
   "metadata": {},
   "source": [
    "### Random vortex positions\n",
    "Set the bellow cell to code to run a simultion starting with random positions."
   ]
  },
  {
   "cell_type": "code",
   "execution_count": 3,
   "id": "eef5083e",
   "metadata": {},
   "outputs": [],
   "source": [
    "#initialize vortexes at random positions\n",
    "pos = np.empty((T,2,N))              \n",
    "#pos is a 3D array with the first dimention being time, second x or y coordinate and last the vortex number\n",
    "for i in range(N):\n",
    "    pos[0][0][i] = rand.uniform(0,dim*a) #x coordinate of each vortex\n",
    "    pos[0][1][i] = rand.uniform(0,dim*b) #y coordinate of each vortex"
   ]
  },
  {
   "cell_type": "markdown",
   "id": "e177c5bb",
   "metadata": {},
   "source": [
    "### Ground state test\n",
    "Set the bellow cell to code to run a simultion from a predifined triangular lattice."
   ]
  },
  {
   "cell_type": "markdown",
   "id": "0219ccaf",
   "metadata": {},
   "source": [
    "#test ground state\n",
    "\n",
    "A = np.arange(0,dim*a + 1, dtype = float)\n",
    "B = np.arange(0,dim*b + 1, dtype = float)\n",
    "\n",
    "N = len(A)*len(B) \n",
    "#pos0 = np.empty((T,2,len(A)*len(B))) \n",
    "pos = np.empty((T,2,len(A)*len(B)))\n",
    "pos[0][0] = np.tile(B,len(A))\n",
    "pos[0][1] = np.repeat(A,len(B))\n",
    "\n",
    "#Code to disloge a square lattince in a triangle one\n",
    "for i in range(len(A)):\n",
    "    #print((i+1) % 2)\n",
    "    if i % 2 == 0:\n",
    "        for j in range(i * len(B), (i+1)*len(B)):\n",
    "            #print(j,img_x[j])\n",
    "            pos[0][0][j] += a/2"
   ]
  },
  {
   "cell_type": "markdown",
   "id": "d59d024e",
   "metadata": {},
   "source": [
    "The vortexes will be put in a square from 0 to 2. The blue vortices plotted below are image ones. The orange ones are actual simuated vortexes"
   ]
  },
  {
   "cell_type": "code",
   "execution_count": 23,
   "id": "97609bb2",
   "metadata": {},
   "outputs": [
    {
     "data": {
      "image/png": "[encoded data removed]",
      "text/plain": [
       "<Figure size 432x288 with 1 Axes>"
      ]
     },
     "metadata": {
      "needs_background": "light"
     },
     "output_type": "display_data"
    }
   ],
   "source": [
    "#initial setup plotted\n",
    "fig, ax = plt.subplots()\n",
    "\n",
    "# plt.plot(img_x, img_y,'o')\n",
    "plt.plot(pos[0][0][:], pos[0][1][:],'o')\n",
    "#for i in range(N):\n",
    "#    plt.annotate(i, (pos[0,0,i],pos[0,1,i]))\n",
    "plt.xlim(0, dim*a)\n",
    "plt.ylim(0, dim*b)\n",
    "\n",
    "plt.savefig('initial_set_up.png')\n",
    "plt.show()"
   ]
  },
  {
   "cell_type": "markdown",
   "id": "7f632d69",
   "metadata": {},
   "source": [
    "Force relationship in Gartlan eq.(3.18), pg44"
   ]
  },
  {
   "cell_type": "code",
   "execution_count": 5,
   "id": "2d7de6aa",
   "metadata": {},
   "outputs": [
    {
     "name": "stderr",
     "output_type": "stream",
     "text": [
      "100%|██████████| 9999/9999 [15:58<00:00, 10.43it/s]\n"
     ]
    },
    {
     "data": {
      "image/png": "[encoded data removed]",
      "text/plain": [
       "<Figure size 432x288 with 1 Axes>"
      ]
     },
     "metadata": {
      "needs_background": "light"
     },
     "output_type": "display_data"
    }
   ],
   "source": [
    "for t in tqdm(range(T-1)):\n",
    "    for i in range(N):\n",
    "        f = []      #list encoding magnitude of force\n",
    "        d = [[],[]] #list encoding direction of force\n",
    "        \n",
    "        for j in range(N):\n",
    "            if j!=i:\n",
    "                dx = pos[t][0][i] - pos[t][0][j]\n",
    "                dy = pos[t][1][i] - pos[t][1][j]\n",
    "                #the bellow if statements make sure the shortest path between vertices is taken, taking into account the double periodic boundary\n",
    "                if abs(dx) > dim*a/2:\n",
    "                    dx = dx - np.sign(dx)*dim*a\n",
    "                if abs(dy) > dim*b/2:\n",
    "                    dy = dy - np.sign(dy)*dim*b\n",
    "\n",
    "                mag = np.sqrt(dx**2 + dy**2)\n",
    "                #if mag == 0:\n",
    "                #    break\n",
    "                d[0].append(dx/mag)       #proportion of force in the x direction\n",
    "                d[1].append(dy/mag)       #proportion of force in the y direction\n",
    "                f.append(mag)             #magnitude of force\n",
    "                # print (t, i, j, f , dx, dy)\n",
    "\n",
    "        \n",
    "        force_x = sum(d[0]*spec.kn(1,f))*dt\n",
    "        force_y = sum(d[1]*spec.kn(1,f))*dt\n",
    "        # print(force_x, force_y)\n",
    "        pos[t+1][0][i] = (pos[t][0][i] +  force_x ) % (dim*a)\n",
    "        pos[t+1][1][i] = (pos[t][1][i] +  force_y ) % (dim*b)\n",
    "        # print(pos[t+1,:,i])\n",
    "\n",
    "plt.plot(pos[T-1][0][:], pos[T-1][1][:],'o')\n",
    "plt.xlim(0, dim*a)\n",
    "plt.ylim(0, dim*b)\n",
    "plt.show()"
   ]
  },
  {
   "cell_type": "code",
   "execution_count": 10,
   "id": "65a3b958",
   "metadata": {},
   "outputs": [
    {
     "data": {
      "image/png": "[encoded data removed]",
      "text/plain": [
       "<Figure size 432x288 with 1 Axes>"
      ]
     },
     "metadata": {
      "needs_background": "light"
     },
     "output_type": "display_data"
    }
   ],
   "source": [
    "#initial setup plotted\n",
    "fig, ax = plt.subplots()\n",
    "\n",
    "# plt.plot(img_x, img_y,'o')\n",
    "plt.plot(pos[T-1][0][:], pos[T-1][1][:],'o')\n",
    "#for i in range(N):\n",
    "#    plt.annotate(i, (pos[0,0,i],pos[0,1,i]))\n",
    "plt.xlim(0, dim*a)\n",
    "plt.ylim(0, dim*b)\n",
    "\n",
    "#plt.savefig('final.png')\n",
    "plt.show()"
   ]
  },
  {
   "cell_type": "code",
   "execution_count": 7,
   "id": "de37f3ce",
   "metadata": {},
   "outputs": [
    {
     "name": "stderr",
     "output_type": "stream",
     "text": [
      "MovieWriter ffmpeg unavailable; using Pillow instead.\n"
     ]
    },
    {
     "name": "stdout",
     "output_type": "stream",
     "text": [
      "done\n"
     ]
    },
    {
     "data": {
      "image/png": "[encoded data removed]",
      "text/plain": [
       "<Figure size 432x288 with 1 Axes>"
      ]
     },
     "metadata": {
      "needs_background": "light"
     },
     "output_type": "display_data"
    }
   ],
   "source": [
    "\"\"\"\n",
    "Matplotlib Animation Example\n",
    "\n",
    "author: Jake Vanderplas\n",
    "email: vanderplas@astro.washington.edu\n",
    "website: http://jakevdp.github.com\n",
    "license: BSD\n",
    "Please feel free to use and modify this, but keep the above information. Thanks!\n",
    "\"\"\"\n",
    "\n",
    "from matplotlib import animation\n",
    "\n",
    "\n",
    "# First set up the figure, the axis, and the plot element we want to animate\n",
    "fig = plt.figure()\n",
    "ax = plt.axes(xlim=(0, dim*a), ylim=(0, dim*b))\n",
    "scat = ax.scatter(pos[:][:][0], pos[:][:][1], c='blue', s=100)\n",
    "\n",
    "# initialization function: plot the background of each frame\n",
    "def init():\n",
    "    #print('init')\n",
    "    trans = np.transpose((pos[0][0],pos[0][1]))\n",
    "    scat.set_offsets(trans)\n",
    "    return scat,\n",
    "\n",
    "# animation function.  This is called sequentially\n",
    "def animate(i):\n",
    "    trans = np.transpose((pos[i][0],pos[i][1]))\n",
    "    scat.set_offsets(trans)\n",
    "    return scat,\n",
    "\n",
    "# call the animator.  blit=True means only re-draw the parts that have changed.\n",
    "anim = animation.FuncAnimation(fig, animate, init_func=init, frames=T, interval=25, blit = True)\n",
    "\n",
    "anim.save('vortexes.gif') \n",
    "print ('done')"
   ]
  },
  {
   "cell_type": "code",
   "execution_count": 8,
   "id": "c488b045",
   "metadata": {},
   "outputs": [
    {
     "name": "stdout",
     "output_type": "stream",
     "text": [
      "-0.7999999999999998 -2.8\n"
     ]
    },
    {
     "data": {
      "image/png": "[encoded data removed]",
      "text/plain": [
       "<Figure size 432x288 with 1 Axes>"
      ]
     },
     "metadata": {
      "needs_background": "light"
     },
     "output_type": "display_data"
    }
   ],
   "source": [
    "pos_test = np.empty((2,2))\n",
    "pos_test[0][1] = 0.1      #x of low particle\n",
    "pos_test[1][1] = 0.1      #y of low particle\n",
    "pos_test[0][0] = 1.9      #x of high particle\n",
    "pos_test[1][0] = 2.9      #y of high particle\n",
    "dx = pos_test[0][1] - pos_test[0][0]\n",
    "if abs(dx) > a/2:\n",
    "   dx = dx - np.sign(dx)*a\n",
    "dy =( pos_test[1][1] - pos_test[1][0])\n",
    "print(dx, dy)\n",
    "fig, ax = plt.subplots()\n",
    "#print(pos[0][:], pos[1][:])\n",
    "\n",
    "plt.plot(pos_test[0][:], pos_test[1][:],'o')\n",
    "\n",
    "plt.show()"
   ]
  }
 ],
 "metadata": {
  "interpreter": {
   "hash": "aee8b7b246df8f9039afb4144a1f6fd8d2ca17a180786b69acc140d282b71a49"
  },
  "kernelspec": {
   "display_name": "Python 3",
   "language": "python",
   "name": "python3"
  },
  "language_info": {
   "codemirror_mode": {
    "name": "ipython",
    "version": 3
   },
   "file_extension": ".py",
   "mimetype": "text/x-python",
   "name": "python",
   "nbconvert_exporter": "python",
   "pygments_lexer": "ipython3",
   "version": "3.8.8"
  }
 },
 "nbformat": 4,
 "nbformat_minor": 5
}
