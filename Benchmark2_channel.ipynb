{
 "cells": [
  {
   "cell_type": "code",
   "execution_count": 1,
   "id": "1b9589a1",
   "metadata": {},
   "outputs": [],
   "source": [
    "import matplotlib.pyplot as plt\n",
    "import numpy as np\n",
    "import random as rand\n",
    "import math\n",
    "import scipy.special as spec\n",
    "import statistics as stats\n",
    "from tqdm import tqdm"
   ]
  },
  {
   "cell_type": "code",
   "execution_count": 2,
   "id": "8517e3bd",
   "metadata": {},
   "outputs": [],
   "source": [
    "#define parameters\n",
    "#the lattice has is of dimentions dim*a x dim*b\n",
    "F_expected = 0.05316144\n",
    "T = 10000000\n",
    "a = 1             #primitive cell lenght\n",
    "b = np.sqrt(3)/2  #primitive cell height\n",
    "L = 10            #lenght of channel\n",
    "dt = 10**(-1)\n",
    "sc = 85\n",
    "global pos"
   ]
  },
  {
   "cell_type": "markdown",
   "id": "0d351214",
   "metadata": {},
   "source": [
    "# One particle"
   ]
  },
  {
   "cell_type": "code",
   "execution_count": 3,
   "id": "dd65a219",
   "metadata": {},
   "outputs": [],
   "source": [
    "pos = np.empty(T+1)"
   ]
  },
  {
   "cell_type": "code",
   "execution_count": 4,
   "id": "9282163a",
   "metadata": {},
   "outputs": [
    {
     "data": {
      "text/plain": [
       "0.9708889055445316"
      ]
     },
     "execution_count": 4,
     "metadata": {},
     "output_type": "execute_result"
    }
   ],
   "source": [
    "pos[0] = rand.uniform(0, 2*a)\n",
    "pos[0]"
   ]
  },
  {
   "cell_type": "code",
   "execution_count": 5,
   "id": "3f39f527",
   "metadata": {},
   "outputs": [
    {
     "data": {
      "text/plain": [
       "200000.0"
      ]
     },
     "execution_count": 5,
     "metadata": {},
     "output_type": "execute_result"
    }
   ],
   "source": [
    "Fdc_plot = np.arange(0,0.1,0.002)\n",
    "Fdc = np.repeat(Fdc_plot, T/len(Fdc_plot))\n",
    "settle = T/len(Fdc_plot)     #the time left for the system to settle\n",
    "settle"
   ]
  },
  {
   "cell_type": "code",
   "execution_count": 6,
   "id": "db0054cd",
   "metadata": {},
   "outputs": [
    {
     "data": {
      "text/plain": [
       "100000.0"
      ]
     },
     "execution_count": 6,
     "metadata": {},
     "output_type": "execute_result"
    }
   ],
   "source": [
    "settle/2"
   ]
  },
  {
   "cell_type": "code",
   "execution_count": 7,
   "id": "1648b71a",
   "metadata": {
    "scrolled": false
   },
   "outputs": [
    {
     "name": "stderr",
     "output_type": "stream",
     "text": [
      "100%|██████████████████████████████████████████████████████████████████| 10000000/10000000 [00:48<00:00, 205625.94it/s]\n"
     ]
    },
    {
     "data": {
      "image/png": "[encoded data removed]",
      "text/plain": [
       "<Figure size 432x288 with 1 Axes>"
      ]
     },
     "metadata": {
      "needs_background": "light"
     },
     "output_type": "display_data"
    }
   ],
   "source": [
    "v = []\n",
    "vm = []\n",
    "vt = []\n",
    "qn = [np.sqrt(1 + (2*np.pi/a)**2), np.sqrt(1 + (4*np.pi/a)**2)]\n",
    "alpha = [1/(qn[0]*(1 + math.exp(-b*qn[0]))), 1/(qn[1]*(1 - math.exp(-b*qn[1]/2)))]\n",
    "for t in tqdm(range(T)):\n",
    "    force_x = sc*alpha[0] * math.sin(2*np.pi*pos[t]/a) * (math.exp(-qn[0]*b))  #force from potential\n",
    "    force_x += Fdc[t]                                                          #driving force\n",
    "    vt.append(force_x*dt)\n",
    "    pos[t+1] = (pos[t]+  force_x*(dt**2)/2) % (2*a)\n",
    "    if t % settle > settle/2:\n",
    "        v.append(vt[t])\n",
    "    if t % settle == settle - 1:\n",
    "        vm.append(np.mean(v))\n",
    "        v = []\n",
    "fig, ax = plt.subplots()\n",
    "ax.set_ylabel(r\"$\\bar v$\")\n",
    "ax.set_xlabel(r\"$F_{DC}$\")\n",
    "ax.plot(Fdc_plot, vm)\n",
    "ax.axvline(F_expected, linestyle='--', color='k', label = 'expected value of $F_{DC}$')\n",
    "ax.set_xticks([round(F_expected, 2), 0.06], minor=False)\n",
    "ax.legend()\n",
    "plt.show()"
   ]
  },
  {
   "cell_type": "code",
   "execution_count": 8,
   "id": "7cbce46c",
   "metadata": {},
   "outputs": [
    {
     "data": {
      "image/png": "[encoded data removed]",
      "text/plain": [
       "<Figure size 432x288 with 1 Axes>"
      ]
     },
     "metadata": {
      "needs_background": "light"
     },
     "output_type": "display_data"
    }
   ],
   "source": [
    "fig, ax = plt.subplots()\n",
    "ax.set_ylabel(r\"$\\bar v$\")\n",
    "ax.set_xlabel(r\"$F_{DC}$\")\n",
    "ax.plot(Fdc_plot, vm)\n",
    "ax.axvline(F_expected, linestyle='--', color='k', label = 'expected value of $F_{DC}$')\n",
    "ax.set_xticks([round(F_expected, 2), 0.06], minor=False)\n",
    "ax.legend()\n",
    "plt.savefig('graph_one_vortex.png')"
   ]
  },
  {
   "cell_type": "code",
   "execution_count": 9,
   "id": "321af063",
   "metadata": {},
   "outputs": [
    {
     "data": {
      "text/plain": [
       "<matplotlib.collections.PathCollection at 0x16a76e9dca0>"
      ]
     },
     "execution_count": 9,
     "metadata": {},
     "output_type": "execute_result"
    },
    {
     "data": {
      "image/png": "[encoded data removed]",
      "text/plain": [
       "<Figure size 432x288 with 1 Axes>"
      ]
     },
     "metadata": {
      "needs_background": "light"
     },
     "output_type": "display_data"
    }
   ],
   "source": [
    "plt.scatter(Fdc_plot, vm)"
   ]
  },
  {
   "cell_type": "code",
   "execution_count": 10,
   "id": "e3946520",
   "metadata": {},
   "outputs": [
    {
     "data": {
      "image/png": "[encoded data removed]",
      "text/plain": [
       "<Figure size 432x288 with 1 Axes>"
      ]
     },
     "metadata": {
      "needs_background": "light"
     },
     "output_type": "display_data"
    }
   ],
   "source": [
    "plt.plot(range(T), vt)\n",
    "plt.show()"
   ]
  },
  {
   "cell_type": "markdown",
   "id": "6308b0e6",
   "metadata": {},
   "source": [
    "### The code bellow creates a gif of the particle in the channel"
   ]
  },
  {
   "cell_type": "markdown",
   "id": "99854b9e",
   "metadata": {},
   "source": [
    "\"\"\"\n",
    "Matplotlib Animation Example\n",
    "\n",
    "author: Jake Vanderplas\n",
    "email: vanderplas@astro.washington.edu\n",
    "website: http://jakevdp.github.com\n",
    "license: BSD\n",
    "Please feel free to use and modify this, but keep the above information. Thanks!\n",
    "\"\"\"\n",
    "\n",
    "from matplotlib import animation\n",
    "\n",
    "\n",
    "# First set up the figure, the axis, and the plot element we want to animate\n",
    "fig = plt.figure()\n",
    "ax = plt.axes(xlim=(0, 2*a), ylim=(0, 2*b))\n",
    "scat = ax.scatter(pos[0], b, c='blue', s=100)\n",
    "\n",
    "# initialization function: plot the background of each frame\n",
    "def init():\n",
    "    #print('init')\n",
    "    #trans = np.transpose((pos[0],pos_y[0]))\n",
    "    scat.set_offsets((pos[0],b))\n",
    "    return scat,\n",
    "\n",
    "# animation function.  This is called sequentially\n",
    "def animate(i):\n",
    "    #trans = np.transpose((pos[i],pos_y[0]))\n",
    "    scat.set_offsets((pos[i],b))\n",
    "    return scat,\n",
    "\n",
    "# call the animator.  blit=True means only re-draw the parts that have changed.\n",
    "anim = animation.FuncAnimation(fig, animate, init_func=init, frames=T, interval=25, blit = True)\n",
    "\n",
    "anim.save('channel_vortex_one.gif')"
   ]
  },
  {
   "cell_type": "markdown",
   "id": "3afa74bc",
   "metadata": {},
   "source": [
    "# Chain"
   ]
  },
  {
   "cell_type": "code",
   "execution_count": 12,
   "id": "a36f5634",
   "metadata": {},
   "outputs": [],
   "source": [
    "T = 100000"
   ]
  },
  {
   "cell_type": "code",
   "execution_count": 13,
   "id": "8525c976",
   "metadata": {},
   "outputs": [],
   "source": [
    "pos = np.empty((T+1,L))    \n",
    "pos[0] = np.arange(0, L, a, dtype = float)\n",
    "pos_y = np.repeat(b,len(pos[0]))"
   ]
  },
  {
   "cell_type": "code",
   "execution_count": 14,
   "id": "97609bb2",
   "metadata": {},
   "outputs": [
    {
     "data": {
      "image/png": "[encoded data removed]",
      "text/plain": [
       "<Figure size 432x288 with 1 Axes>"
      ]
     },
     "metadata": {
      "needs_background": "light"
     },
     "output_type": "display_data"
    }
   ],
   "source": [
    "#initial setup plotted\n",
    "fig, ax = plt.subplots()\n",
    "\n",
    "plt.plot(pos[0], pos_y,'o')\n",
    "#for i in range(len(img_x)):\n",
    "#    plt.annotate(i, (img_x[i],img_y[i]))\n",
    "plt.ylim(0, 2*b)\n",
    "plt.show()"
   ]
  },
  {
   "cell_type": "code",
   "execution_count": 15,
   "id": "082eadbd",
   "metadata": {},
   "outputs": [
    {
     "data": {
      "text/plain": [
       "5000.0"
      ]
     },
     "execution_count": 15,
     "metadata": {},
     "output_type": "execute_result"
    }
   ],
   "source": [
    "Fdc_plot = np.arange(0,0.1,0.005)\n",
    "Fdc = np.repeat(Fdc_plot, T/len(Fdc_plot))\n",
    "settle = T/len(Fdc_plot)     #the time left for the system to settle\n",
    "settle"
   ]
  },
  {
   "cell_type": "code",
   "execution_count": 20,
   "id": "2d7de6aa",
   "metadata": {},
   "outputs": [
    {
     "name": "stderr",
     "output_type": "stream",
     "text": [
      "100%|████████████████████████████████████████████████████████████████████████| 100000/100000 [00:45<00:00, 2202.27it/s]\n"
     ]
    },
    {
     "data": {
      "image/png": "[encoded data removed]",
      "text/plain": [
       "<Figure size 432x288 with 1 Axes>"
      ]
     },
     "metadata": {
      "needs_background": "light"
     },
     "output_type": "display_data"
    }
   ],
   "source": [
    "v_chain = []\n",
    "inter_vortex = np.empty((T,L))\n",
    "vm = []\n",
    "vt = []\n",
    "v = []\n",
    "qn = np.sqrt(1 + (2*np.pi/a)**2)\n",
    "alpha = 1/(qn*(1 + math.exp(-b*qn)))\n",
    "for t in tqdm(range(T)):\n",
    "    for i in range(int(L/a)):\n",
    "        f = []      #list encoding magnitude of force\n",
    "        d = []      #list encoding direction of force\n",
    "        dx = pos[t] - pos[t][i]\n",
    "        for j in range(int(L/a)):\n",
    "            if j!=i:\n",
    "                if abs(dx[j]) > L*a/2:\n",
    "                    dx[j] = dx[j] - np.sign(dx[j])*L*a\n",
    "                d.append(dx[j])                  #proportion of force in the x direction\n",
    "                f.append(abs(dx[j]))             #magnitude of force\n",
    "        \n",
    "        force_x = sum(-np.sign(d)*spec.kn(1,f))#force from inter vortex interaction\n",
    "        force_x += L * sc * alpha * (math.sin(2*np.pi*pos[t][i]/a)*math.exp(-qn*b)) #force from potential\n",
    "        force_x += L * Fdc[t]                                                        #driving force\n",
    "        inter_vortex[t][i] = force_x\n",
    "        vt.append(force_x*dt)\n",
    "        pos[t+1][i] = (pos[t][i] +  force_x*(dt**2)/2) % (L*a)\n",
    "        \n",
    "    v_chain.append(np.mean(vt))\n",
    "    vt = []\n",
    "    if t % settle > settle/2:\n",
    "        v.append(v_chain[t])\n",
    "    if t % settle == settle - 1:\n",
    "        vm.append(np.mean(v))\n",
    "        v = []\n",
    "fig, ax = plt.subplots()\n",
    "ax.set_ylabel(r\"$\\bar v$\")\n",
    "ax.set_xlabel(r\"$F_{DC}$\")\n",
    "ax.plot(Fdc_plot, vm)\n",
    "ax.axvline(F_expected, linestyle='--', color='k')\n",
    "#plt.savefig('graph_chain.png')\n",
    "plt.show()"
   ]
  },
  {
   "cell_type": "code",
   "execution_count": 21,
   "id": "a9c68211",
   "metadata": {},
   "outputs": [
    {
     "data": {
      "image/png": "[encoded data removed]",
      "text/plain": [
       "<Figure size 432x288 with 1 Axes>"
      ]
     },
     "metadata": {
      "needs_background": "light"
     },
     "output_type": "display_data"
    }
   ],
   "source": [
    "fig, ax = plt.subplots()\n",
    "ax.set_ylabel(r\"$\\bar v$\")\n",
    "ax.set_xlabel(r\"$F_{DC}$\")\n",
    "ax.scatter(Fdc_plot, vm)\n",
    "ax.axvline(F_expected, linestyle='--', color='k')\n",
    "#plt.savefig('graph_chain_scatter_plot.png')\n",
    "plt.show()"
   ]
  },
  {
   "cell_type": "code",
   "execution_count": 22,
   "id": "4f090698",
   "metadata": {},
   "outputs": [
    {
     "data": {
      "image/png": "[encoded data removed]",
      "text/plain": [
       "<Figure size 432x288 with 1 Axes>"
      ]
     },
     "metadata": {
      "needs_background": "light"
     },
     "output_type": "display_data"
    }
   ],
   "source": [
    "plt.plot(range(T), v_chain)\n",
    "plt.show()"
   ]
  },
  {
   "cell_type": "markdown",
   "id": "766f9b19",
   "metadata": {},
   "source": [
    "### The code bellow creates a gif of chain in the channel"
   ]
  },
  {
   "cell_type": "markdown",
   "id": "742857eb",
   "metadata": {},
   "source": [
    "\"\"\"\n",
    "Matplotlib Animation Example\n",
    "\n",
    "author: Jake Vanderplas\n",
    "email: vanderplas@astro.washington.edu\n",
    "website: http://jakevdp.github.com\n",
    "license: BSD\n",
    "Please feel free to use and modify this, but keep the above information. Thanks!\n",
    "\"\"\"\n",
    "\n",
    "from matplotlib import animation\n",
    "\n",
    "\n",
    "# First set up the figure, the axis, and the plot element we want to animate\n",
    "fig = plt.figure()\n",
    "ax = plt.axes(xlim=(0, L*a), ylim=(0, 2*b))\n",
    "scat = ax.scatter(pos[0], pos_y, c='blue', s=100)\n",
    "\n",
    "# initialization function: plot the background of each frame\n",
    "def init():\n",
    "    #print('init')\n",
    "    trans = np.transpose((pos[0],pos_y))\n",
    "    scat.set_offsets(trans)\n",
    "    return scat,\n",
    "\n",
    "# animation function.  This is called sequentially\n",
    "def animate(i):\n",
    "    trans = np.transpose((pos[i],pos_y))\n",
    "    scat.set_offsets(trans)\n",
    "    return scat,\n",
    "\n",
    "# call the animator.  blit=True means only re-draw the parts that have changed.\n",
    "anim = animation.FuncAnimation(fig, animate, init_func=init, frames=T, interval=25, blit = True)\n",
    "\n",
    "anim.save('channel_vortex.gif')"
   ]
  }
 ],
 "metadata": {
  "interpreter": {
   "hash": "aee8b7b246df8f9039afb4144a1f6fd8d2ca17a180786b69acc140d282b71a49"
  },
  "kernelspec": {
   "display_name": "Python 3",
   "language": "python",
   "name": "python3"
  },
  "language_info": {
   "codemirror_mode": {
    "name": "ipython",
    "version": 3
   },
   "file_extension": ".py",
   "mimetype": "text/x-python",
   "name": "python",
   "nbconvert_exporter": "python",
   "pygments_lexer": "ipython3",
   "version": "3.8.8"
  }
 },
 "nbformat": 4,
 "nbformat_minor": 5
}
